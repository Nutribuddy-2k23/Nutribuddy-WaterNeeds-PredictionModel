{
  "nbformat": 4,
  "nbformat_minor": 0,
  "metadata": {
    "colab": {
      "provenance": []
    },
    "kernelspec": {
      "name": "python3",
      "display_name": "Python 3"
    },
    "language_info": {
      "name": "python"
    }
  },
  "cells": [
    {
      "cell_type": "code",
      "execution_count": 1,
      "metadata": {
        "id": "IZDUykv01odZ"
      },
      "outputs": [],
      "source": [
        "import pandas as pd\n",
        "from sklearn.model_selection import train_test_split\n",
        "from sklearn.linear_model import LinearRegression\n",
        "from sklearn.metrics import mean_absolute_error, mean_squared_error, r2_score\n",
        "from sklearn.impute import SimpleImputer\n"
      ]
    },
    {
      "cell_type": "code",
      "source": [
        "from google.colab import drive\n",
        "drive.mount('/content/drive')"
      ],
      "metadata": {
        "colab": {
          "base_uri": "https://localhost:8080/"
        },
        "id": "ydDkIb7X1wRH",
        "outputId": "4e4b0faa-5679-4420-c5a1-bd29273328e0"
      },
      "execution_count": 2,
      "outputs": [
        {
          "output_type": "stream",
          "name": "stdout",
          "text": [
            "Mounted at /content/drive\n"
          ]
        }
      ]
    },
    {
      "cell_type": "code",
      "source": [
        "# Step 1: Data Preprocessing\n",
        "# Load your dataset (replace 'your_dataset.csv' with the actual file path)\n",
        "df = pd.read_csv('/content/feeds_data.csv')"
      ],
      "metadata": {
        "id": "V61vYcgi19zr"
      },
      "execution_count": 3,
      "outputs": []
    },
    {
      "cell_type": "code",
      "source": [
        "print(df.head())"
      ],
      "metadata": {
        "colab": {
          "base_uri": "https://localhost:8080/"
        },
        "id": "IcBTRN4G3AsM",
        "outputId": "1d36b14e-f0f9-414b-a0aa-b2c45f1446a5"
      },
      "execution_count": 4,
      "outputs": [
        {
          "output_type": "stream",
          "name": "stdout",
          "text": [
            "                  created_at  entry_id  Temperature  Humidity Heat index  \\\n",
            "0  2022-03-24T14:11:05+05:30       1.0         33.0      15.0  30.68\\n\\n   \n",
            "1  2022-03-24T14:11:35+05:30       2.0         33.1      16.0  30.81\\n\\n   \n",
            "2  2022-03-24T14:11:50+05:30       3.0         33.1      16.0  30.81\\n\\n   \n",
            "3  2022-03-24T14:12:05+05:30       4.0         33.1      15.0  30.77\\n\\n   \n",
            "4  2022-03-24T14:12:35+05:30       5.0         33.1      16.0  30.81\\n\\n   \n",
            "\n",
            "   pH Level of Nutrient Solution    Location  \\\n",
            "0                            5.6  Greenhouse   \n",
            "1                            5.6  Greenhouse   \n",
            "2                            5.6  Greenhouse   \n",
            "3                            5.6  Greenhouse   \n",
            "4                            5.6  Greenhouse   \n",
            "\n",
            "   Electrical Conductivity (EC) of Nutrient Solution(mS/cm)  Number of Plants  \\\n",
            "0                                                1.2                       50   \n",
            "1                                                1.2                       50   \n",
            "2                                                1.2                       50   \n",
            "3                                                1.2                       50   \n",
            "4                                                1.2                       50   \n",
            "\n",
            "  Type of Hydroponics System plant type crop stage  Water Usage(Litres)  \n",
            "0                        NFT    Lettuce      ideal                 93.6  \n",
            "1                        NFT    Lettuce      ideal                 93.6  \n",
            "2                        NFT    Lettuce      ideal                 93.6  \n",
            "3                        NFT    Lettuce      ideal                 93.6  \n",
            "4                        NFT    Lettuce      ideal                 93.6  \n"
          ]
        }
      ]
    },
    {
      "cell_type": "code",
      "source": [
        "# Getting last 3 rows from df\n",
        "df_last_3 = df.tail(3)\n",
        "\n",
        "# Printing df_last_3\n",
        "print(df_last_3)"
      ],
      "metadata": {
        "colab": {
          "base_uri": "https://localhost:8080/"
        },
        "id": "IFyBwV-uAtAX",
        "outputId": "dc1c307e-f0ec-46e4-afa1-66d37ace3baf"
      },
      "execution_count": 5,
      "outputs": [
        {
          "output_type": "stream",
          "name": "stdout",
          "text": [
            "                      created_at  entry_id  Temperature  Humidity Heat index  \\\n",
            "41549  2022-05-22T23:34:30+05:30   41555.0          0.0       0.0     0.00\\n   \n",
            "41550  2022-05-20T08:32:14+05:30   41546.0         29.9      55.0  31.72\\n\\n   \n",
            "41551  2022-05-20T08:31:29+05:30   41545.0         29.9      56.0  31.90\\n\\n   \n",
            "\n",
            "       pH Level of Nutrient Solution    Location  \\\n",
            "41549                            5.8  Greenhouse   \n",
            "41550                            5.8  Greenhouse   \n",
            "41551                            5.8  Greenhouse   \n",
            "\n",
            "       Electrical Conductivity (EC) of Nutrient Solution(mS/cm)  \\\n",
            "41549                                                1.2          \n",
            "41550                                                1.2          \n",
            "41551                                                1.2          \n",
            "\n",
            "       Number of Plants Type of Hydroponics System plant type   crop stage  \\\n",
            "41549                50                        NFT    Lettuce  germination   \n",
            "41550                50                        NFT    Lettuce  germination   \n",
            "41551                50                        NFT    Lettuce  germination   \n",
            "\n",
            "       Water Usage(Litres)  \n",
            "41549               141.05  \n",
            "41550               141.05  \n",
            "41551               141.05  \n"
          ]
        }
      ]
    },
    {
      "cell_type": "code",
      "source": [
        "# Handle missing values (if any)\n",
        "# For simplicity, we'll fill missing values with the mean for numerical columns\n",
        "df.fillna(df.mean(), inplace=True)\n"
      ],
      "metadata": {
        "colab": {
          "base_uri": "https://localhost:8080/"
        },
        "id": "CSe_iN1T2_lW",
        "outputId": "0f41d59f-0f65-4a77-b151-8c4bc7f6758f"
      },
      "execution_count": 6,
      "outputs": [
        {
          "output_type": "stream",
          "name": "stderr",
          "text": [
            "<ipython-input-6-823e99f46224>:3: FutureWarning: The default value of numeric_only in DataFrame.mean is deprecated. In a future version, it will default to False. In addition, specifying 'numeric_only=None' is deprecated. Select only valid columns or specify the value of numeric_only to silence this warning.\n",
            "  df.fillna(df.mean(), inplace=True)\n"
          ]
        }
      ]
    },
    {
      "cell_type": "code",
      "source": [
        "print(df.head())"
      ],
      "metadata": {
        "colab": {
          "base_uri": "https://localhost:8080/"
        },
        "id": "LxQSjDQ-3cof",
        "outputId": "b3594057-9df8-437d-a033-5793136bbcf7"
      },
      "execution_count": 7,
      "outputs": [
        {
          "output_type": "stream",
          "name": "stdout",
          "text": [
            "                  created_at  entry_id  Temperature  Humidity Heat index  \\\n",
            "0  2022-03-24T14:11:05+05:30       1.0         33.0      15.0  30.68\\n\\n   \n",
            "1  2022-03-24T14:11:35+05:30       2.0         33.1      16.0  30.81\\n\\n   \n",
            "2  2022-03-24T14:11:50+05:30       3.0         33.1      16.0  30.81\\n\\n   \n",
            "3  2022-03-24T14:12:05+05:30       4.0         33.1      15.0  30.77\\n\\n   \n",
            "4  2022-03-24T14:12:35+05:30       5.0         33.1      16.0  30.81\\n\\n   \n",
            "\n",
            "   pH Level of Nutrient Solution    Location  \\\n",
            "0                            5.6  Greenhouse   \n",
            "1                            5.6  Greenhouse   \n",
            "2                            5.6  Greenhouse   \n",
            "3                            5.6  Greenhouse   \n",
            "4                            5.6  Greenhouse   \n",
            "\n",
            "   Electrical Conductivity (EC) of Nutrient Solution(mS/cm)  Number of Plants  \\\n",
            "0                                                1.2                       50   \n",
            "1                                                1.2                       50   \n",
            "2                                                1.2                       50   \n",
            "3                                                1.2                       50   \n",
            "4                                                1.2                       50   \n",
            "\n",
            "  Type of Hydroponics System plant type crop stage  Water Usage(Litres)  \n",
            "0                        NFT    Lettuce      ideal                 93.6  \n",
            "1                        NFT    Lettuce      ideal                 93.6  \n",
            "2                        NFT    Lettuce      ideal                 93.6  \n",
            "3                        NFT    Lettuce      ideal                 93.6  \n",
            "4                        NFT    Lettuce      ideal                 93.6  \n"
          ]
        }
      ]
    },
    {
      "cell_type": "code",
      "source": [
        "df['created_at'] = pd.to_datetime(df['created_at'])"
      ],
      "metadata": {
        "id": "tGejpXchTxgO"
      },
      "execution_count": 8,
      "outputs": []
    },
    {
      "cell_type": "code",
      "source": [
        "# Convert categorical variables to numerical using one-hot encoding\n",
        "df = pd.get_dummies(df, columns=['Location', 'Type of Hydroponics System', 'plant type', 'crop stage'])\n"
      ],
      "metadata": {
        "id": "yt1o8AKP3_ZF"
      },
      "execution_count": 9,
      "outputs": []
    },
    {
      "cell_type": "code",
      "source": [
        "print(df.head())\n"
      ],
      "metadata": {
        "colab": {
          "base_uri": "https://localhost:8080/"
        },
        "id": "qNges97z4Bw5",
        "outputId": "5f7d511f-8211-4abb-ac3d-33ea2202a82a"
      },
      "execution_count": 10,
      "outputs": [
        {
          "output_type": "stream",
          "name": "stdout",
          "text": [
            "                 created_at  entry_id  Temperature  Humidity Heat index  \\\n",
            "0 2022-03-24 14:11:05+05:30       1.0         33.0      15.0  30.68\\n\\n   \n",
            "1 2022-03-24 14:11:35+05:30       2.0         33.1      16.0  30.81\\n\\n   \n",
            "2 2022-03-24 14:11:50+05:30       3.0         33.1      16.0  30.81\\n\\n   \n",
            "3 2022-03-24 14:12:05+05:30       4.0         33.1      15.0  30.77\\n\\n   \n",
            "4 2022-03-24 14:12:35+05:30       5.0         33.1      16.0  30.81\\n\\n   \n",
            "\n",
            "   pH Level of Nutrient Solution  \\\n",
            "0                            5.6   \n",
            "1                            5.6   \n",
            "2                            5.6   \n",
            "3                            5.6   \n",
            "4                            5.6   \n",
            "\n",
            "   Electrical Conductivity (EC) of Nutrient Solution(mS/cm)  Number of Plants  \\\n",
            "0                                                1.2                       50   \n",
            "1                                                1.2                       50   \n",
            "2                                                1.2                       50   \n",
            "3                                                1.2                       50   \n",
            "4                                                1.2                       50   \n",
            "\n",
            "   Water Usage(Litres)  Location_Greenhouse  Type of Hydroponics System_NFT  \\\n",
            "0                 93.6                    1                               1   \n",
            "1                 93.6                    1                               1   \n",
            "2                 93.6                    1                               1   \n",
            "3                 93.6                    1                               1   \n",
            "4                 93.6                    1                               1   \n",
            "\n",
            "   plant type_Lettuce  crop stage_germination  crop stage_ideal  \n",
            "0                   1                       0                 1  \n",
            "1                   1                       0                 1  \n",
            "2                   1                       0                 1  \n",
            "3                   1                       0                 1  \n",
            "4                   1                       0                 1  \n"
          ]
        }
      ]
    },
    {
      "cell_type": "code",
      "source": [
        "# Drop columns that are not relevant for prediction (if any)\n",
        "df = df.drop(['created_at','entry_id'], axis=1)"
      ],
      "metadata": {
        "id": "l0VASfwI4Woj"
      },
      "execution_count": 11,
      "outputs": []
    },
    {
      "cell_type": "code",
      "source": [
        "print(df.head())\n"
      ],
      "metadata": {
        "colab": {
          "base_uri": "https://localhost:8080/"
        },
        "id": "yDur59Zp4a4T",
        "outputId": "2ea26932-f24d-40c5-d87d-c2d9dc18cf65"
      },
      "execution_count": 12,
      "outputs": [
        {
          "output_type": "stream",
          "name": "stdout",
          "text": [
            "   Temperature  Humidity Heat index  pH Level of Nutrient Solution  \\\n",
            "0         33.0      15.0  30.68\\n\\n                            5.6   \n",
            "1         33.1      16.0  30.81\\n\\n                            5.6   \n",
            "2         33.1      16.0  30.81\\n\\n                            5.6   \n",
            "3         33.1      15.0  30.77\\n\\n                            5.6   \n",
            "4         33.1      16.0  30.81\\n\\n                            5.6   \n",
            "\n",
            "   Electrical Conductivity (EC) of Nutrient Solution(mS/cm)  Number of Plants  \\\n",
            "0                                                1.2                       50   \n",
            "1                                                1.2                       50   \n",
            "2                                                1.2                       50   \n",
            "3                                                1.2                       50   \n",
            "4                                                1.2                       50   \n",
            "\n",
            "   Water Usage(Litres)  Location_Greenhouse  Type of Hydroponics System_NFT  \\\n",
            "0                 93.6                    1                               1   \n",
            "1                 93.6                    1                               1   \n",
            "2                 93.6                    1                               1   \n",
            "3                 93.6                    1                               1   \n",
            "4                 93.6                    1                               1   \n",
            "\n",
            "   plant type_Lettuce  crop stage_germination  crop stage_ideal  \n",
            "0                   1                       0                 1  \n",
            "1                   1                       0                 1  \n",
            "2                   1                       0                 1  \n",
            "3                   1                       0                 1  \n",
            "4                   1                       0                 1  \n"
          ]
        }
      ]
    },
    {
      "cell_type": "code",
      "source": [
        "from sklearn.preprocessing import StandardScaler\n",
        "\n",
        "# Assuming X_train and X_test contain your feature data\n"
      ],
      "metadata": {
        "id": "jvx0IFDm6OA5"
      },
      "execution_count": 13,
      "outputs": []
    },
    {
      "cell_type": "code",
      "source": [
        "# Standardize numerical variables (Temperature, Humidity, Heat index, pH Level)\n",
        "scaler = StandardScaler()\n",
        "df[['Temperature', 'Humidity', 'Heat index', 'pH Level of Nutrient Solution']] = scaler.fit_transform(df[['Temperature', 'Humidity', 'Heat index', 'pH Level of Nutrient Solution']])\n"
      ],
      "metadata": {
        "id": "lkmp68BM6FG3"
      },
      "execution_count": 14,
      "outputs": []
    },
    {
      "cell_type": "code",
      "source": [
        "print(df.head())\n"
      ],
      "metadata": {
        "colab": {
          "base_uri": "https://localhost:8080/"
        },
        "id": "oR9CR7Ou6s9w",
        "outputId": "827264b2-1c08-40c4-d492-36036830261e"
      },
      "execution_count": 15,
      "outputs": [
        {
          "output_type": "stream",
          "name": "stdout",
          "text": [
            "   Temperature  Humidity  Heat index  pH Level of Nutrient Solution  \\\n",
            "0     1.089380 -1.245913   -0.020880                      -2.347946   \n",
            "1     1.139572 -1.183096    0.026430                      -2.347946   \n",
            "2     1.139572 -1.183096    0.026430                      -2.347946   \n",
            "3     1.139572 -1.245913    0.011873                      -2.347946   \n",
            "4     1.139572 -1.183096    0.026430                      -2.347946   \n",
            "\n",
            "   Electrical Conductivity (EC) of Nutrient Solution(mS/cm)  Number of Plants  \\\n",
            "0                                                1.2                       50   \n",
            "1                                                1.2                       50   \n",
            "2                                                1.2                       50   \n",
            "3                                                1.2                       50   \n",
            "4                                                1.2                       50   \n",
            "\n",
            "   Water Usage(Litres)  Location_Greenhouse  Type of Hydroponics System_NFT  \\\n",
            "0                 93.6                    1                               1   \n",
            "1                 93.6                    1                               1   \n",
            "2                 93.6                    1                               1   \n",
            "3                 93.6                    1                               1   \n",
            "4                 93.6                    1                               1   \n",
            "\n",
            "   plant type_Lettuce  crop stage_germination  crop stage_ideal  \n",
            "0                   1                       0                 1  \n",
            "1                   1                       0                 1  \n",
            "2                   1                       0                 1  \n",
            "3                   1                       0                 1  \n",
            "4                   1                       0                 1  \n"
          ]
        }
      ]
    },
    {
      "cell_type": "code",
      "source": [
        "# Getting last 3 rows from df\n",
        "df_last_3 = df.tail(3)\n",
        "\n",
        "# Printing df_last_3\n",
        "print(df_last_3)"
      ],
      "metadata": {
        "colab": {
          "base_uri": "https://localhost:8080/"
        },
        "id": "m-30vLrl8mTY",
        "outputId": "bbca9595-8254-4ba1-dbe2-4c06df06c202"
      },
      "execution_count": 16,
      "outputs": [
        {
          "output_type": "stream",
          "name": "stdout",
          "text": [
            "       Temperature  Humidity  Heat index  pH Level of Nutrient Solution  \\\n",
            "41549   -15.473921 -2.188171  -11.186011                       0.425904   \n",
            "41550    -0.466567  1.266773    0.357599                       0.425904   \n",
            "41551    -0.466567  1.329590    0.423105                       0.425904   \n",
            "\n",
            "       Electrical Conductivity (EC) of Nutrient Solution(mS/cm)  \\\n",
            "41549                                                1.2          \n",
            "41550                                                1.2          \n",
            "41551                                                1.2          \n",
            "\n",
            "       Number of Plants  Water Usage(Litres)  Location_Greenhouse  \\\n",
            "41549                50               141.05                    1   \n",
            "41550                50               141.05                    1   \n",
            "41551                50               141.05                    1   \n",
            "\n",
            "       Type of Hydroponics System_NFT  plant type_Lettuce  \\\n",
            "41549                               1                   1   \n",
            "41550                               1                   1   \n",
            "41551                               1                   1   \n",
            "\n",
            "       crop stage_germination  crop stage_ideal  \n",
            "41549                       1                 0  \n",
            "41550                       1                 0  \n",
            "41551                       1                 0  \n"
          ]
        }
      ]
    },
    {
      "cell_type": "code",
      "source": [
        "# Assuming df is your DataFrame\n",
        "\n",
        "# Check for missing values\n",
        "missing_values = df['Water Usage(Litres)'].isna().sum()\n",
        "print(f'Number of missing values in Water Usage: {missing_values}')\n",
        "\n",
        "# Fill missing values with a default value (e.g., 0)\n",
        "df['Water Usage(Litres)'].fillna(0, inplace=True)\n",
        "\n",
        "# Check for missing values\n",
        "missing_values = df['Temperature'].isna().sum()\n",
        "print(f'Number of missing values in Temperature: {missing_values}')\n",
        "\n",
        "# Fill missing values with a default value (e.g., 0)\n",
        "df['Temperature'].fillna(0, inplace=True)\n",
        "\n",
        "# Check for missing values\n",
        "missing_values = df['Humidity'].isna().sum()\n",
        "print(f'Number of missing values in Humidity: {missing_values}')\n",
        "\n",
        "# Fill missing values with a default value (e.g., 0)\n",
        "df['Humidity'].fillna(0, inplace=True)\n",
        "\n",
        "\n",
        "# Check for missing values\n",
        "missing_values = df['Heat index'].isna().sum()\n",
        "print(f'Number of missing values in Heat index: {missing_values}')\n",
        "\n",
        "# Fill missing values with a default value (e.g., 0)\n",
        "df['Heat index'].fillna(0, inplace=True)\n",
        "\n",
        "\n",
        "# Extract numerical value from 'Water Usage' column and convert to integer\n",
        "#df['Water Usage'] = df['Water Usage'].str.extract('(\\d+)').astype(int)\n"
      ],
      "metadata": {
        "colab": {
          "base_uri": "https://localhost:8080/"
        },
        "id": "N0lQshbn7vTc",
        "outputId": "fda3ac94-159a-42f1-fa34-4ca3c1aaaef9"
      },
      "execution_count": 17,
      "outputs": [
        {
          "output_type": "stream",
          "name": "stdout",
          "text": [
            "Number of missing values in Water Usage: 0\n",
            "Number of missing values in Temperature: 0\n",
            "Number of missing values in Humidity: 0\n",
            "Number of missing values in Heat index: 97\n"
          ]
        }
      ]
    },
    {
      "cell_type": "code",
      "source": [
        "# Assuming df is your DataFrame\n",
        "\n",
        "# Impute missing values in 'Heat index' with mean\n",
        "imputer = SimpleImputer(strategy='mean')\n",
        "df['Heat index'] = imputer.fit_transform(df[['Heat index']])\n"
      ],
      "metadata": {
        "id": "HcSOCHUqVus-"
      },
      "execution_count": 18,
      "outputs": []
    },
    {
      "cell_type": "code",
      "source": [
        "# Getting last 3 rows from df\n",
        "df_last_3 = df.tail(3)\n",
        "\n",
        "# Printing df_last_3\n",
        "print(df_last_3)"
      ],
      "metadata": {
        "colab": {
          "base_uri": "https://localhost:8080/"
        },
        "id": "ToVPU4TzR7QI",
        "outputId": "879c0c87-9055-4582-826f-85f198b26aba"
      },
      "execution_count": 19,
      "outputs": [
        {
          "output_type": "stream",
          "name": "stdout",
          "text": [
            "       Temperature  Humidity  Heat index  pH Level of Nutrient Solution  \\\n",
            "41549   -15.473921 -2.188171  -11.186011                       0.425904   \n",
            "41550    -0.466567  1.266773    0.357599                       0.425904   \n",
            "41551    -0.466567  1.329590    0.423105                       0.425904   \n",
            "\n",
            "       Electrical Conductivity (EC) of Nutrient Solution(mS/cm)  \\\n",
            "41549                                                1.2          \n",
            "41550                                                1.2          \n",
            "41551                                                1.2          \n",
            "\n",
            "       Number of Plants  Water Usage(Litres)  Location_Greenhouse  \\\n",
            "41549                50               141.05                    1   \n",
            "41550                50               141.05                    1   \n",
            "41551                50               141.05                    1   \n",
            "\n",
            "       Type of Hydroponics System_NFT  plant type_Lettuce  \\\n",
            "41549                               1                   1   \n",
            "41550                               1                   1   \n",
            "41551                               1                   1   \n",
            "\n",
            "       crop stage_germination  crop stage_ideal  \n",
            "41549                       1                 0  \n",
            "41550                       1                 0  \n",
            "41551                       1                 0  \n"
          ]
        }
      ]
    },
    {
      "cell_type": "code",
      "source": [
        "# Impute missing values in Temperature, Humidity, and Heat index\n",
        "imputer = SimpleImputer(strategy='mean')\n",
        "df[['Temperature', 'Humidity', 'Heat index']] = imputer.fit_transform(df[['Temperature', 'Humidity', 'Heat index']])\n"
      ],
      "metadata": {
        "id": "1M3IfYKEPoQX"
      },
      "execution_count": 20,
      "outputs": []
    },
    {
      "cell_type": "code",
      "source": [
        "# Split the dataset into features (X) and target variable (y)\n",
        "X = df.drop(['Water Usage(Litres)'], axis=1)\n",
        "y = df['Water Usage(Litres)']"
      ],
      "metadata": {
        "id": "5Y6yDKAMB9k7"
      },
      "execution_count": 21,
      "outputs": []
    },
    {
      "cell_type": "code",
      "source": [
        "# Getting last 3 rows from df\n",
        "df_last_3 = df.tail(3)\n",
        "\n",
        "# Printing df_last_3\n",
        "print(df_last_3)"
      ],
      "metadata": {
        "colab": {
          "base_uri": "https://localhost:8080/"
        },
        "id": "kUs1GB0rEyTh",
        "outputId": "401745d5-6d5d-45ec-9f59-1a50efd2e2db"
      },
      "execution_count": 22,
      "outputs": [
        {
          "output_type": "stream",
          "name": "stdout",
          "text": [
            "       Temperature  Humidity  Heat index  pH Level of Nutrient Solution  \\\n",
            "41549   -15.473921 -2.188171  -11.186011                       0.425904   \n",
            "41550    -0.466567  1.266773    0.357599                       0.425904   \n",
            "41551    -0.466567  1.329590    0.423105                       0.425904   \n",
            "\n",
            "       Electrical Conductivity (EC) of Nutrient Solution(mS/cm)  \\\n",
            "41549                                                1.2          \n",
            "41550                                                1.2          \n",
            "41551                                                1.2          \n",
            "\n",
            "       Number of Plants  Water Usage(Litres)  Location_Greenhouse  \\\n",
            "41549                50               141.05                    1   \n",
            "41550                50               141.05                    1   \n",
            "41551                50               141.05                    1   \n",
            "\n",
            "       Type of Hydroponics System_NFT  plant type_Lettuce  \\\n",
            "41549                               1                   1   \n",
            "41550                               1                   1   \n",
            "41551                               1                   1   \n",
            "\n",
            "       crop stage_germination  crop stage_ideal  \n",
            "41549                       1                 0  \n",
            "41550                       1                 0  \n",
            "41551                       1                 0  \n"
          ]
        }
      ]
    },
    {
      "cell_type": "code",
      "source": [
        "# Step 2: Feature Selection/Engineering\n",
        "# In this example, we'll use all available features. You can perform more advanced feature selection/engineering as needed.\n"
      ],
      "metadata": {
        "id": "TrBiQYduCO6s"
      },
      "execution_count": 23,
      "outputs": []
    },
    {
      "cell_type": "code",
      "source": [
        "# Step 3: Data Splitting\n",
        "X_train, X_test, y_train, y_test = train_test_split(X, y, test_size=0.2, random_state=42)\n"
      ],
      "metadata": {
        "id": "oHLO_JGfCTCd"
      },
      "execution_count": 24,
      "outputs": []
    },
    {
      "cell_type": "code",
      "source": [
        "# Step 4: Selecting a Model\n",
        "model = LinearRegression()  # Linear Regression is chosen as an example. You can try different models.\n"
      ],
      "metadata": {
        "id": "Ber1XRxRDhDE"
      },
      "execution_count": 25,
      "outputs": []
    },
    {
      "cell_type": "code",
      "source": [
        "# Step 5: Model Training\n",
        "model.fit(X_train, y_train)"
      ],
      "metadata": {
        "colab": {
          "base_uri": "https://localhost:8080/",
          "height": 75
        },
        "id": "Yq0yYnCNDl43",
        "outputId": "9837c072-f7e7-42a3-f0ec-55d778857f2a"
      },
      "execution_count": 26,
      "outputs": [
        {
          "output_type": "execute_result",
          "data": {
            "text/plain": [
              "LinearRegression()"
            ],
            "text/html": [
              "<style>#sk-container-id-1 {color: black;background-color: white;}#sk-container-id-1 pre{padding: 0;}#sk-container-id-1 div.sk-toggleable {background-color: white;}#sk-container-id-1 label.sk-toggleable__label {cursor: pointer;display: block;width: 100%;margin-bottom: 0;padding: 0.3em;box-sizing: border-box;text-align: center;}#sk-container-id-1 label.sk-toggleable__label-arrow:before {content: \"▸\";float: left;margin-right: 0.25em;color: #696969;}#sk-container-id-1 label.sk-toggleable__label-arrow:hover:before {color: black;}#sk-container-id-1 div.sk-estimator:hover label.sk-toggleable__label-arrow:before {color: black;}#sk-container-id-1 div.sk-toggleable__content {max-height: 0;max-width: 0;overflow: hidden;text-align: left;background-color: #f0f8ff;}#sk-container-id-1 div.sk-toggleable__content pre {margin: 0.2em;color: black;border-radius: 0.25em;background-color: #f0f8ff;}#sk-container-id-1 input.sk-toggleable__control:checked~div.sk-toggleable__content {max-height: 200px;max-width: 100%;overflow: auto;}#sk-container-id-1 input.sk-toggleable__control:checked~label.sk-toggleable__label-arrow:before {content: \"▾\";}#sk-container-id-1 div.sk-estimator input.sk-toggleable__control:checked~label.sk-toggleable__label {background-color: #d4ebff;}#sk-container-id-1 div.sk-label input.sk-toggleable__control:checked~label.sk-toggleable__label {background-color: #d4ebff;}#sk-container-id-1 input.sk-hidden--visually {border: 0;clip: rect(1px 1px 1px 1px);clip: rect(1px, 1px, 1px, 1px);height: 1px;margin: -1px;overflow: hidden;padding: 0;position: absolute;width: 1px;}#sk-container-id-1 div.sk-estimator {font-family: monospace;background-color: #f0f8ff;border: 1px dotted black;border-radius: 0.25em;box-sizing: border-box;margin-bottom: 0.5em;}#sk-container-id-1 div.sk-estimator:hover {background-color: #d4ebff;}#sk-container-id-1 div.sk-parallel-item::after {content: \"\";width: 100%;border-bottom: 1px solid gray;flex-grow: 1;}#sk-container-id-1 div.sk-label:hover label.sk-toggleable__label {background-color: #d4ebff;}#sk-container-id-1 div.sk-serial::before {content: \"\";position: absolute;border-left: 1px solid gray;box-sizing: border-box;top: 0;bottom: 0;left: 50%;z-index: 0;}#sk-container-id-1 div.sk-serial {display: flex;flex-direction: column;align-items: center;background-color: white;padding-right: 0.2em;padding-left: 0.2em;position: relative;}#sk-container-id-1 div.sk-item {position: relative;z-index: 1;}#sk-container-id-1 div.sk-parallel {display: flex;align-items: stretch;justify-content: center;background-color: white;position: relative;}#sk-container-id-1 div.sk-item::before, #sk-container-id-1 div.sk-parallel-item::before {content: \"\";position: absolute;border-left: 1px solid gray;box-sizing: border-box;top: 0;bottom: 0;left: 50%;z-index: -1;}#sk-container-id-1 div.sk-parallel-item {display: flex;flex-direction: column;z-index: 1;position: relative;background-color: white;}#sk-container-id-1 div.sk-parallel-item:first-child::after {align-self: flex-end;width: 50%;}#sk-container-id-1 div.sk-parallel-item:last-child::after {align-self: flex-start;width: 50%;}#sk-container-id-1 div.sk-parallel-item:only-child::after {width: 0;}#sk-container-id-1 div.sk-dashed-wrapped {border: 1px dashed gray;margin: 0 0.4em 0.5em 0.4em;box-sizing: border-box;padding-bottom: 0.4em;background-color: white;}#sk-container-id-1 div.sk-label label {font-family: monospace;font-weight: bold;display: inline-block;line-height: 1.2em;}#sk-container-id-1 div.sk-label-container {text-align: center;}#sk-container-id-1 div.sk-container {/* jupyter's `normalize.less` sets `[hidden] { display: none; }` but bootstrap.min.css set `[hidden] { display: none !important; }` so we also need the `!important` here to be able to override the default hidden behavior on the sphinx rendered scikit-learn.org. See: https://github.com/scikit-learn/scikit-learn/issues/21755 */display: inline-block !important;position: relative;}#sk-container-id-1 div.sk-text-repr-fallback {display: none;}</style><div id=\"sk-container-id-1\" class=\"sk-top-container\"><div class=\"sk-text-repr-fallback\"><pre>LinearRegression()</pre><b>In a Jupyter environment, please rerun this cell to show the HTML representation or trust the notebook. <br />On GitHub, the HTML representation is unable to render, please try loading this page with nbviewer.org.</b></div><div class=\"sk-container\" hidden><div class=\"sk-item\"><div class=\"sk-estimator sk-toggleable\"><input class=\"sk-toggleable__control sk-hidden--visually\" id=\"sk-estimator-id-1\" type=\"checkbox\" checked><label for=\"sk-estimator-id-1\" class=\"sk-toggleable__label sk-toggleable__label-arrow\">LinearRegression</label><div class=\"sk-toggleable__content\"><pre>LinearRegression()</pre></div></div></div></div></div>"
            ]
          },
          "metadata": {},
          "execution_count": 26
        }
      ]
    },
    {
      "cell_type": "code",
      "source": [
        "# Step 6: Model Evaluation\n",
        "y_pred = model.predict(X_test)\n",
        "mae = mean_absolute_error(y_test, y_pred)\n",
        "mse = mean_squared_error(y_test, y_pred)\n",
        "r2 = r2_score(y_test, y_pred)\n",
        "\n",
        "print(f'Mean Absolute Error: {mae}')\n",
        "print(f'Mean Squared Error: {mse}')\n",
        "print(f'R-squared: {r2}')"
      ],
      "metadata": {
        "id": "BEd9CXe2XhBb",
        "colab": {
          "base_uri": "https://localhost:8080/"
        },
        "outputId": "dffcf04a-65ab-4eeb-c905-3b261801c1ff"
      },
      "execution_count": 27,
      "outputs": [
        {
          "output_type": "stream",
          "name": "stdout",
          "text": [
            "Mean Absolute Error: 0.16853706231030732\n",
            "Mean Squared Error: 0.0615179660955298\n",
            "R-squared: 0.9998666095825121\n"
          ]
        }
      ]
    },
    {
      "cell_type": "code",
      "source": [
        "train_score = model.score(X_train, y_train)\n",
        "val_score = model.score(X_test, y_test)\n",
        "\n",
        "print(f\"Training R-squared: {train_score}\")\n",
        "print(f\"Validation R-squared: {val_score}\")\n"
      ],
      "metadata": {
        "id": "Cim3PLyEZP6D",
        "colab": {
          "base_uri": "https://localhost:8080/"
        },
        "outputId": "5fdfe187-0621-4415-cfa8-9ac0aecb8ed3"
      },
      "execution_count": 28,
      "outputs": [
        {
          "output_type": "stream",
          "name": "stdout",
          "text": [
            "Training R-squared: 0.9998657056632712\n",
            "Validation R-squared: 0.9998666095825121\n"
          ]
        }
      ]
    },
    {
      "cell_type": "code",
      "source": [
        "from sklearn.model_selection import cross_val_score\n",
        "\n",
        "# Perform k-fold cross-validation\n",
        "scores = cross_val_score(model, X, y, cv=5)  # 5-fold cross-validation\n",
        "print(f\"Cross-validated R-squared scores: {scores}\")\n"
      ],
      "metadata": {
        "id": "fVhge8FtQmMj",
        "colab": {
          "base_uri": "https://localhost:8080/"
        },
        "outputId": "584dd3bd-7ff9-4149-93e1-02dde3cd18d3"
      },
      "execution_count": 29,
      "outputs": [
        {
          "output_type": "stream",
          "name": "stdout",
          "text": [
            "Cross-validated R-squared scores: [-1.61488445e+26  9.99869098e-01  1.37363737e-01 -2.25717344e+25\n",
            " -1.66442415e+27]\n"
          ]
        }
      ]
    },
    {
      "cell_type": "code",
      "source": [
        "import matplotlib.pyplot as plt\n",
        "import numpy as np\n",
        "from sklearn.model_selection import learning_curve\n",
        "\n",
        "# Generate learning curves\n",
        "train_sizes, train_scores, val_scores = learning_curve(model, X, y, cv=5)\n",
        "\n",
        "# Plot learning curves\n",
        "plt.plot(train_sizes, np.mean(train_scores, axis=1), label='Training score')\n",
        "plt.plot(train_sizes, np.mean(val_scores, axis=1), label='Validation score')\n",
        "plt.xlabel('Training examples')\n",
        "plt.ylabel('R-squared')\n",
        "plt.legend(loc='best')\n",
        "plt.show()\n"
      ],
      "metadata": {
        "id": "-IiQstWzRtCo",
        "colab": {
          "base_uri": "https://localhost:8080/",
          "height": 465
        },
        "outputId": "1ea8c3b9-01cb-4251-8f04-7e751b715134"
      },
      "execution_count": 30,
      "outputs": [
        {
          "output_type": "display_data",
          "data": {
            "text/plain": [
              "<Figure size 640x480 with 1 Axes>"
            ],
            "image/png": "[encoded data removed]"
          },
          "metadata": {}
        }
      ]
    },
    {
      "cell_type": "code",
      "source": [
        "from sklearn.linear_model import Ridge\n",
        "\n",
        "# Use Ridge regression with regularization\n",
        "ridge_model = Ridge(alpha=1.0)  # Adjust alpha as needed\n",
        "ridge_model.fit(X_train, y_train)\n",
        "ridge_train_score = ridge_model.score(X_train, y_train)\n",
        "ridge_val_score = ridge_model.score(X_test, y_test)\n",
        "\n",
        "print(f\"Ridge Training R-squared: {ridge_train_score}\")\n",
        "print(f\"Ridge Validation R-squared: {ridge_val_score}\")\n"
      ],
      "metadata": {
        "id": "pIfYEIYMRs-W",
        "colab": {
          "base_uri": "https://localhost:8080/"
        },
        "outputId": "c0892b7b-617e-4cb6-9fa5-d25b1b6de571"
      },
      "execution_count": 31,
      "outputs": [
        {
          "output_type": "stream",
          "name": "stdout",
          "text": [
            "Ridge Training R-squared: 0.9998656946613436\n",
            "Ridge Validation R-squared: 0.9998665993444359\n"
          ]
        }
      ]
    },
    {
      "cell_type": "code",
      "source": [
        "# Assuming 'model' is your trained Linear Regression model\n",
        "coefficients = model.coef_\n",
        "feature_names = X.columns\n",
        "\n",
        "# Pair feature names with their coefficients\n",
        "feature_coefficients = list(zip(feature_names, coefficients))\n",
        "\n",
        "# Sort features by absolute coefficient value\n",
        "feature_coefficients = sorted(feature_coefficients, key=lambda x: abs(x[1]), reverse=True)\n",
        "\n",
        "# Print or inspect the most important features\n",
        "print(\"Top Features and Their Coefficients:\")\n",
        "for feature, coefficient in feature_coefficients:\n",
        "    print(f\"{feature}: {coefficient}\")\n"
      ],
      "metadata": {
        "id": "2GfJeD7STtkc",
        "colab": {
          "base_uri": "https://localhost:8080/"
        },
        "outputId": "8e35fd08-e014-4f8b-d02b-fa2c84985f87"
      },
      "execution_count": 32,
      "outputs": [
        {
          "output_type": "stream",
          "name": "stdout",
          "text": [
            "Top Features and Their Coefficients:\n",
            "crop stage_ideal: -23.697054023914244\n",
            "crop stage_germination: 23.697054023914212\n",
            "Humidity: 0.42999445455047836\n",
            "Heat index: -0.36979987925794267\n",
            "Temperature: 0.2551682664184665\n",
            "pH Level of Nutrient Solution: 0.0022644562854419042\n",
            "Electrical Conductivity (EC) of Nutrient Solution(mS/cm): 3.2949410494754955e-31\n",
            "Number of Plants: 0.0\n",
            "Location_Greenhouse: 0.0\n",
            "Type of Hydroponics System_NFT: 0.0\n",
            "plant type_Lettuce: 0.0\n"
          ]
        }
      ]
    },
    {
      "cell_type": "code",
      "source": [
        "# Assuming you have a separate test set X_test and y_test\n",
        "test_score = model.score(X_test, y_test)\n",
        "print(f\"Test R-squared: {test_score}\")\n"
      ],
      "metadata": {
        "id": "g_GHb7x1TPOL",
        "colab": {
          "base_uri": "https://localhost:8080/"
        },
        "outputId": "2a34d0f7-74c9-4924-ece5-56f90ffbfadc"
      },
      "execution_count": 33,
      "outputs": [
        {
          "output_type": "stream",
          "name": "stdout",
          "text": [
            "Test R-squared: 0.9998666095825121\n"
          ]
        }
      ]
    },
    {
      "cell_type": "code",
      "source": [
        "# Getting last 3 rows from df\n",
        "df_last_3 = df.tail(3)\n",
        "\n",
        "# Printing df_last_3\n",
        "print(df_last_3)"
      ],
      "metadata": {
        "id": "ahItvg4tUOq3",
        "colab": {
          "base_uri": "https://localhost:8080/"
        },
        "outputId": "314a6418-4a9a-43d5-ec5c-10c2b976cf2f"
      },
      "execution_count": 34,
      "outputs": [
        {
          "output_type": "stream",
          "name": "stdout",
          "text": [
            "       Temperature  Humidity  Heat index  pH Level of Nutrient Solution  \\\n",
            "41549   -15.473921 -2.188171  -11.186011                       0.425904   \n",
            "41550    -0.466567  1.266773    0.357599                       0.425904   \n",
            "41551    -0.466567  1.329590    0.423105                       0.425904   \n",
            "\n",
            "       Electrical Conductivity (EC) of Nutrient Solution(mS/cm)  \\\n",
            "41549                                                1.2          \n",
            "41550                                                1.2          \n",
            "41551                                                1.2          \n",
            "\n",
            "       Number of Plants  Water Usage(Litres)  Location_Greenhouse  \\\n",
            "41549                50               141.05                    1   \n",
            "41550                50               141.05                    1   \n",
            "41551                50               141.05                    1   \n",
            "\n",
            "       Type of Hydroponics System_NFT  plant type_Lettuce  \\\n",
            "41549                               1                   1   \n",
            "41550                               1                   1   \n",
            "41551                               1                   1   \n",
            "\n",
            "       crop stage_germination  crop stage_ideal  \n",
            "41549                       1                 0  \n",
            "41550                       1                 0  \n",
            "41551                       1                 0  \n"
          ]
        }
      ]
    },
    {
      "cell_type": "code",
      "source": [
        "print(df.head(5))"
      ],
      "metadata": {
        "id": "Nu49ko0hVMIX",
        "colab": {
          "base_uri": "https://localhost:8080/"
        },
        "outputId": "0e6183d7-6ddc-489c-e80b-579cdb1eac90"
      },
      "execution_count": 35,
      "outputs": [
        {
          "output_type": "stream",
          "name": "stdout",
          "text": [
            "   Temperature  Humidity  Heat index  pH Level of Nutrient Solution  \\\n",
            "0     1.089380 -1.245913   -0.020880                      -2.347946   \n",
            "1     1.139572 -1.183096    0.026430                      -2.347946   \n",
            "2     1.139572 -1.183096    0.026430                      -2.347946   \n",
            "3     1.139572 -1.245913    0.011873                      -2.347946   \n",
            "4     1.139572 -1.183096    0.026430                      -2.347946   \n",
            "\n",
            "   Electrical Conductivity (EC) of Nutrient Solution(mS/cm)  Number of Plants  \\\n",
            "0                                                1.2                       50   \n",
            "1                                                1.2                       50   \n",
            "2                                                1.2                       50   \n",
            "3                                                1.2                       50   \n",
            "4                                                1.2                       50   \n",
            "\n",
            "   Water Usage(Litres)  Location_Greenhouse  Type of Hydroponics System_NFT  \\\n",
            "0                 93.6                    1                               1   \n",
            "1                 93.6                    1                               1   \n",
            "2                 93.6                    1                               1   \n",
            "3                 93.6                    1                               1   \n",
            "4                 93.6                    1                               1   \n",
            "\n",
            "   plant type_Lettuce  crop stage_germination  crop stage_ideal  \n",
            "0                   1                       0                 1  \n",
            "1                   1                       0                 1  \n",
            "2                   1                       0                 1  \n",
            "3                   1                       0                 1  \n",
            "4                   1                       0                 1  \n"
          ]
        }
      ]
    },
    {
      "cell_type": "code",
      "source": [
        "# Assuming 'X_train' is your DataFrame used for training\n",
        "features_used = X_train.columns.tolist()\n",
        "\n",
        "print(\"Features used during training:\")\n",
        "for feature in features_used:\n",
        "    print(feature)\n"
      ],
      "metadata": {
        "id": "rBo3Rm64WYbE",
        "colab": {
          "base_uri": "https://localhost:8080/"
        },
        "outputId": "7562baf9-a97e-4e31-88cb-c724e182a5f1"
      },
      "execution_count": 36,
      "outputs": [
        {
          "output_type": "stream",
          "name": "stdout",
          "text": [
            "Features used during training:\n",
            "Temperature\n",
            "Humidity\n",
            "Heat index\n",
            "pH Level of Nutrient Solution\n",
            "Electrical Conductivity (EC) of Nutrient Solution(mS/cm)\n",
            "Number of Plants\n",
            "Location_Greenhouse\n",
            "Type of Hydroponics System_NFT\n",
            "plant type_Lettuce\n",
            "crop stage_germination\n",
            "crop stage_ideal\n"
          ]
        }
      ]
    },
    {
      "cell_type": "code",
      "source": [
        "import pandas as pd\n",
        "\n",
        "# Assuming X_new is a DataFrame\n",
        "X_new = pd.DataFrame({\n",
        "    'Temperature': [25.0, 28.0, 30.0],\n",
        "    'Humidity': [60, 65, 70],\n",
        "    'Heat index': [27.0, 29.0, 32.0],\n",
        "    'pH Level of Nutrient Solution': [6.5, 6.8, 7.0],\n",
        "    'Electrical Conductivity (EC) of Nutrient Solution(mS/cm)': [1.2, 1.3, 1.4],\n",
        "    'Number of Plants': [50, 50, 50],\n",
        "    'Location_Greenhouse': [1, 0, 1],\n",
        "    'Type of Hydroponics System_NFT': [1, 0, 1],\n",
        "    'plant type_Lettuce':[0, 1, 0],\n",
        "    'crop stage_germination': [0, 1, 0],\n",
        "    'crop stage_ideal': [0, 1, 0],\n",
        "\n",
        "    # Add other features as needed\n",
        "})\n",
        "\n",
        "# Now, you can use your trained model to make predictions\n",
        "predictions = model.predict(X_new)\n"
      ],
      "metadata": {
        "id": "PRjX7v9WY-cD"
      },
      "execution_count": 37,
      "outputs": []
    },
    {
      "cell_type": "code",
      "source": [
        "print(predictions)"
      ],
      "metadata": {
        "id": "QvHEhQQLW-DF",
        "colab": {
          "base_uri": "https://localhost:8080/"
        },
        "outputId": "c739e892-adef-45d6-c519-f0c6a5f1456c"
      },
      "execution_count": 38,
      "outputs": [
        {
          "output_type": "stream",
          "name": "stdout",
          "text": [
            "[139.38780432 141.56436097 143.11572303]\n"
          ]
        }
      ]
    },
    {
      "cell_type": "code",
      "source": [
        "y_train_pred = model.predict(X_train)\n",
        "y_test_pred = model.predict(X_test)\n",
        "\n",
        "# Step 3: Evaluate the model\n",
        "train_mse = mean_squared_error(y_train, y_train_pred)\n",
        "test_mse = mean_squared_error(y_test, y_test_pred)\n",
        "\n",
        "print(f\"Training Mean Squared Error: {train_mse}\")\n",
        "print(f\"Testing Mean Squared Error: {test_mse}\")"
      ],
      "metadata": {
        "id": "FQDzMOZEofFR",
        "colab": {
          "base_uri": "https://localhost:8080/"
        },
        "outputId": "fc307e42-5e27-483f-c3da-0a2a9b776ae3"
      },
      "execution_count": 39,
      "outputs": [
        {
          "output_type": "stream",
          "name": "stdout",
          "text": [
            "Training Mean Squared Error: 0.06122860539661239\n",
            "Testing Mean Squared Error: 0.0615179660955298\n"
          ]
        }
      ]
    },
    {
      "cell_type": "code",
      "source": [
        "r_squared = r2_score(y_test, y_test_pred)\n",
        "\n",
        "print(f\"R-squared (coefficient of determination): {r_squared}\")"
      ],
      "metadata": {
        "id": "E0NdMh81o-Ms",
        "colab": {
          "base_uri": "https://localhost:8080/"
        },
        "outputId": "b4c1ed9b-aaed-412b-d206-b9de67988f4b"
      },
      "execution_count": 40,
      "outputs": [
        {
          "output_type": "stream",
          "name": "stdout",
          "text": [
            "R-squared (coefficient of determination): 0.9998666095825121\n"
          ]
        }
      ]
    },
    {
      "cell_type": "code",
      "source": [
        "print(len(y_test), len(predictions))\n"
      ],
      "metadata": {
        "id": "uET_MczwXsAW",
        "colab": {
          "base_uri": "https://localhost:8080/"
        },
        "outputId": "7090bbae-8b97-4509-c1bb-3a7461a5692c"
      },
      "execution_count": 41,
      "outputs": [
        {
          "output_type": "stream",
          "name": "stdout",
          "text": [
            "8311 3\n"
          ]
        }
      ]
    }
  ]
}